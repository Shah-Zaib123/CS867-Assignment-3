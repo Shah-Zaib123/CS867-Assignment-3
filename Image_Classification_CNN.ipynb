{
  "nbformat": 4,
  "nbformat_minor": 0,
  "metadata": {
    "accelerator": "GPU",
    "colab": {
      "name": "Image_Classification_CNN.ipynb",
      "provenance": [],
      "collapsed_sections": [],
      "toc_visible": true,
      "authorship_tag": "ABX9TyPZyKX1UtTF/1uuyfMaKXzF",
      "include_colab_link": true
    },
    "kernelspec": {
      "display_name": "Python 3",
      "name": "python3"
    }
  },
  "cells": [
    {
      "cell_type": "markdown",
      "metadata": {
        "id": "view-in-github",
        "colab_type": "text"
      },
      "source": [
        "<a href=\"https://colab.research.google.com/github/Shah-Zaib123/CS867-Assignment-3/blob/main/Image_Classification_CNN.ipynb\" target=\"_parent\"><img src=\"https://colab.research.google.com/assets/colab-badge.svg\" alt=\"Open In Colab\"/></a>"
      ]
    },
    {
      "cell_type": "markdown",
      "metadata": {
        "id": "vd_hKUR-EhrE"
      },
      "source": [
        "#Downloading a Kaggle Dataset in Colab Session\r\n",
        "\r\n",
        "Following the steps below to download and use kaggle data within Google Colab:\r\n",
        "1. Sign Up on Kaggle and move to account tab.\r\n",
        "2. Scroll to API section and Click Expire API Token to remove previous tokens (if created before).\r\n",
        "3. Click on Create New API Token - It will download kaggle.json file on your machine.\r\n",
        "4. Go to your Google Colab project file and run the following commands:"
      ]
    },
    {
      "cell_type": "code",
      "metadata": {
        "id": "VgtvI8wJ8FQp",
        "colab": {
          "base_uri": "https://localhost:8080/",
          "height": 887
        },
        "outputId": "ba06c72f-e0d5-4ca3-e9c7-cfd9c5791375"
      },
      "source": [
        "!pip install --upgrade --ignore-installed kaggle\r\n"
      ],
      "execution_count": 1,
      "outputs": [
        {
          "output_type": "stream",
          "text": [
            "Collecting kaggle\n",
            "\u001b[?25l  Downloading https://files.pythonhosted.org/packages/99/33/365c0d13f07a2a54744d027fe20b60dacdfdfb33bc04746db6ad0b79340b/kaggle-1.5.10.tar.gz (59kB)\n",
            "\u001b[K     |████████████████████████████████| 61kB 5.4MB/s \n",
            "\u001b[?25hCollecting six>=1.10\n",
            "  Downloading https://files.pythonhosted.org/packages/ee/ff/48bde5c0f013094d729fe4b0316ba2a24774b3ff1c52d924a8a4cb04078a/six-1.15.0-py2.py3-none-any.whl\n",
            "Collecting certifi\n",
            "\u001b[?25l  Downloading https://files.pythonhosted.org/packages/5e/a0/5f06e1e1d463903cf0c0eebeb751791119ed7a4b3737fdc9a77f1cdfb51f/certifi-2020.12.5-py2.py3-none-any.whl (147kB)\n",
            "\u001b[K     |████████████████████████████████| 153kB 11.4MB/s \n",
            "\u001b[?25hCollecting python-dateutil\n",
            "\u001b[?25l  Downloading https://files.pythonhosted.org/packages/d4/70/d60450c3dd48ef87586924207ae8907090de0b306af2bce5d134d78615cb/python_dateutil-2.8.1-py2.py3-none-any.whl (227kB)\n",
            "\u001b[K     |████████████████████████████████| 235kB 14.5MB/s \n",
            "\u001b[?25hCollecting requests\n",
            "\u001b[?25l  Downloading https://files.pythonhosted.org/packages/29/c1/24814557f1d22c56d50280771a17307e6bf87b70727d975fd6b2ce6b014a/requests-2.25.1-py2.py3-none-any.whl (61kB)\n",
            "\u001b[K     |████████████████████████████████| 61kB 4.9MB/s \n",
            "\u001b[?25hCollecting tqdm\n",
            "\u001b[?25l  Downloading https://files.pythonhosted.org/packages/ac/a2/1fc6ceff232a4755fa85e2bd3aaca1145c3103b298000129381309995072/tqdm-4.55.1-py2.py3-none-any.whl (68kB)\n",
            "\u001b[K     |████████████████████████████████| 71kB 5.7MB/s \n",
            "\u001b[?25hCollecting python-slugify\n",
            "  Downloading https://files.pythonhosted.org/packages/9f/42/e336f96a8b6007428df772d0d159b8eee9b2f1811593a4931150660402c0/python-slugify-4.0.1.tar.gz\n",
            "Collecting urllib3\n",
            "\u001b[?25l  Downloading https://files.pythonhosted.org/packages/f5/71/45d36a8df68f3ebb098d6861b2c017f3d094538c0fb98fa61d4dc43e69b9/urllib3-1.26.2-py2.py3-none-any.whl (136kB)\n",
            "\u001b[K     |████████████████████████████████| 143kB 17.2MB/s \n",
            "\u001b[?25hCollecting chardet<5,>=3.0.2\n",
            "\u001b[?25l  Downloading https://files.pythonhosted.org/packages/19/c7/fa589626997dd07bd87d9269342ccb74b1720384a4d739a1872bd84fbe68/chardet-4.0.0-py2.py3-none-any.whl (178kB)\n",
            "\u001b[K     |████████████████████████████████| 184kB 16.3MB/s \n",
            "\u001b[?25hCollecting idna<3,>=2.5\n",
            "\u001b[?25l  Downloading https://files.pythonhosted.org/packages/a2/38/928ddce2273eaa564f6f50de919327bf3a00f091b5baba8dfa9460f3a8a8/idna-2.10-py2.py3-none-any.whl (58kB)\n",
            "\u001b[K     |████████████████████████████████| 61kB 6.6MB/s \n",
            "\u001b[?25hCollecting text-unidecode>=1.3\n",
            "\u001b[?25l  Downloading https://files.pythonhosted.org/packages/a6/a5/c0b6468d3824fe3fde30dbb5e1f687b291608f9473681bbf7dabbf5a87d7/text_unidecode-1.3-py2.py3-none-any.whl (78kB)\n",
            "\u001b[K     |████████████████████████████████| 81kB 9.3MB/s \n",
            "\u001b[?25hBuilding wheels for collected packages: kaggle, python-slugify\n",
            "  Building wheel for kaggle (setup.py) ... \u001b[?25l\u001b[?25hdone\n",
            "  Created wheel for kaggle: filename=kaggle-1.5.10-cp36-none-any.whl size=73269 sha256=e29b1c32eeac84528f2444684a135a1a4f9c535b52d06ae2ce73dae1845bf441\n",
            "  Stored in directory: /root/.cache/pip/wheels/3a/d1/7e/6ce09b72b770149802c653a02783821629146983ee5a360f10\n",
            "  Building wheel for python-slugify (setup.py) ... \u001b[?25l\u001b[?25hdone\n",
            "  Created wheel for python-slugify: filename=python_slugify-4.0.1-py2.py3-none-any.whl size=6769 sha256=401250376eb3202add1efcd75de73b6db5ef0790d2520cc5ee5f51c46b37b20a\n",
            "  Stored in directory: /root/.cache/pip/wheels/67/b8/ba/041548f30a6fc058c9b3f79a5b7b6aea925a15dd1e5c4992a4\n",
            "Successfully built kaggle python-slugify\n",
            "\u001b[31mERROR: nbclient 0.5.1 has requirement jupyter-client>=6.1.5, but you'll have jupyter-client 5.3.5 which is incompatible.\u001b[0m\n",
            "\u001b[31mERROR: google-colab 1.0.0 has requirement requests~=2.23.0, but you'll have requests 2.25.1 which is incompatible.\u001b[0m\n",
            "\u001b[31mERROR: datascience 0.10.6 has requirement folium==0.2.1, but you'll have folium 0.8.3 which is incompatible.\u001b[0m\n",
            "\u001b[31mERROR: albumentations 0.1.12 has requirement imgaug<0.2.7,>=0.2.5, but you'll have imgaug 0.2.9 which is incompatible.\u001b[0m\n",
            "Installing collected packages: six, certifi, python-dateutil, chardet, idna, urllib3, requests, tqdm, text-unidecode, python-slugify, kaggle\n",
            "Successfully installed certifi-2020.12.5 chardet-4.0.0 idna-2.10 kaggle-1.5.10 python-dateutil-2.8.1 python-slugify-4.0.1 requests-2.25.1 six-1.15.0 text-unidecode-1.3 tqdm-4.55.1 urllib3-1.26.2\n"
          ],
          "name": "stdout"
        },
        {
          "output_type": "display_data",
          "data": {
            "application/vnd.colab-display-data+json": {
              "pip_warning": {
                "packages": [
                  "dateutil",
                  "six"
                ]
              }
            }
          },
          "metadata": {
            "tags": []
          }
        }
      ]
    },
    {
      "cell_type": "markdown",
      "metadata": {
        "id": "HLQ53XeeFCP8"
      },
      "source": [
        "5. Import the \"kaggle.json\" downloaded above in step 3."
      ]
    },
    {
      "cell_type": "code",
      "metadata": {
        "colab": {
          "resources": {
            "http://localhost:8080/nbextensions/google.colab/files.js": {
              "data": "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",
              "ok": true,
              "headers": [
                [
                  "content-type",
                  "application/javascript"
                ]
              ],
              "status": 200,
              "status_text": ""
            }
          },
          "base_uri": "https://localhost:8080/",
          "height": 106
        },
        "id": "RJlfu_D4E-n-",
        "outputId": "1575d972-cccc-4865-acb4-ac1922854c1f"
      },
      "source": [
        "from google.colab import files\r\n",
        "files.upload()\r\n",
        "print(\"\\nkaggle.json file uploaded successfully.......\")"
      ],
      "execution_count": 2,
      "outputs": [
        {
          "output_type": "display_data",
          "data": {
            "text/html": [
              "\n",
              "     <input type=\"file\" id=\"files-f7738fc5-4d9f-4cd1-87d6-fb57640021b6\" name=\"files[]\" multiple disabled\n",
              "        style=\"border:none\" />\n",
              "     <output id=\"result-f7738fc5-4d9f-4cd1-87d6-fb57640021b6\">\n",
              "      Upload widget is only available when the cell has been executed in the\n",
              "      current browser session. Please rerun this cell to enable.\n",
              "      </output>\n",
              "      <script src=\"/nbextensions/google.colab/files.js\"></script> "
            ],
            "text/plain": [
              "<IPython.core.display.HTML object>"
            ]
          },
          "metadata": {
            "tags": []
          }
        },
        {
          "output_type": "stream",
          "text": [
            "Saving kaggle.json to kaggle.json\n",
            "\n",
            "kaggle.json file uploaded successfully.......\n"
          ],
          "name": "stdout"
        }
      ]
    },
    {
      "cell_type": "markdown",
      "metadata": {
        "id": "N5ig6wmbFv5A"
      },
      "source": [
        "6. Make directory named kaggle and copy kaggle.json file there."
      ]
    },
    {
      "cell_type": "code",
      "metadata": {
        "id": "KyRqnhxoFu3F"
      },
      "source": [
        "!mkdir ~/.kaggle #created at root folder in colab\r\n",
        "!cp kaggle.json ~/.kaggle #copying"
      ],
      "execution_count": 3,
      "outputs": []
    },
    {
      "cell_type": "markdown",
      "metadata": {
        "id": "hezjQPKdGUDT"
      },
      "source": [
        "7. Change the permissions of the file.\r\n",
        "\r\n",
        "**Note:** Permissions of 600 mean that the owner has full read and write access to the file, while no other user can access the file.)"
      ]
    },
    {
      "cell_type": "code",
      "metadata": {
        "colab": {
          "base_uri": "https://localhost:8080/"
        },
        "id": "ovk7eXJwGWla",
        "outputId": "b42db9f5-cb6f-4ad1-ff30-e08f0a063e64"
      },
      "source": [
        "!chmod 600 ~/.kaggle/kaggle.json\r\n",
        "print(\"\\n File permission chnaged to 600 successfully.......\")"
      ],
      "execution_count": 4,
      "outputs": [
        {
          "output_type": "stream",
          "text": [
            "\n",
            " File permission chnaged to 600 successfully.......\n"
          ],
          "name": "stdout"
        }
      ]
    },
    {
      "cell_type": "markdown",
      "metadata": {
        "id": "wIz64NCAGdKP"
      },
      "source": [
        "8. To download a specific Dataset (intel-image-classification):\r\n",
        "- Go to a URL of a particular dataset(https://www.kaggle.com/puneet6060/intel-image-classification/version/2) and look for **Copy API command**"
      ]
    },
    {
      "cell_type": "code",
      "metadata": {
        "colab": {
          "base_uri": "https://localhost:8080/"
        },
        "id": "SXhjgigFHPGe",
        "outputId": "8c36f14f-16b3-4bd5-e803-9e1848402507"
      },
      "source": [
        "#downloading Intel Image Classification dataset\r\n",
        "print(\"Downloading Intel Image Classification Kaggle dataset.......\\n\")\r\n",
        "!kaggle datasets download -d puneet6060/intel-image-classification\r\n",
        "print(\"\\n Dataset downloaded successfully.......\")"
      ],
      "execution_count": 5,
      "outputs": [
        {
          "output_type": "stream",
          "text": [
            "Downloading Intel Image Classification Kaggle dataset.......\n",
            "\n",
            "Downloading intel-image-classification.zip to /content\n",
            "100% 346M/346M [00:03<00:00, 172MB/s]\n",
            "100% 346M/346M [00:03<00:00, 116MB/s]\n",
            "\n",
            " Dataset downloaded successfully.......\n"
          ],
          "name": "stdout"
        }
      ]
    },
    {
      "cell_type": "markdown",
      "metadata": {
        "id": "xMWVWsHPIKMo"
      },
      "source": [
        "9. Unziping dataset in Colab session."
      ]
    },
    {
      "cell_type": "code",
      "metadata": {
        "colab": {
          "base_uri": "https://localhost:8080/"
        },
        "id": "oaFp6GDTIWcX",
        "outputId": "9c33d160-3281-444c-98c7-09bbf75f5531"
      },
      "source": [
        "print(\"Unziping dataset in colab session started.......\\n\")\r\n",
        "!unzip -q intel-image-classification.zip # -q for quiet \r\n",
        "print(\"\\n Dataset successfully unziped in colab session.......\")"
      ],
      "execution_count": 6,
      "outputs": [
        {
          "output_type": "stream",
          "text": [
            "Unziping dataset in colab session started.......\n",
            "\n",
            "\n",
            " Dataset successfully unziped in colab session.......\n"
          ],
          "name": "stdout"
        }
      ]
    },
    {
      "cell_type": "markdown",
      "metadata": {
        "id": "GoNTwRmAKPdn"
      },
      "source": [
        "10. Mounting to google drive and Replacing the old seg_pred folder with new labeled data of seg_pred folder"
      ]
    },
    {
      "cell_type": "code",
      "metadata": {
        "id": "t004oOH8k8Ks",
        "colab": {
          "base_uri": "https://localhost:8080/"
        },
        "outputId": "3d6f9cb2-198d-4900-f566-b8755406c1ea"
      },
      "source": [
        "# Mounting to google drive.....\r\n",
        "from google.colab import drive\r\n",
        "drive.mount('/content/drive')\r\n",
        "print(\"\\n Mounted to google drive successfully.......\")\r\n",
        "\r\n",
        "#deleting the old seg_pred and unziping new seg_pred.....\r\n",
        "!rm -rf seg_pred\r\n",
        "!unzip -q /content/drive/MyDrive/Test_data.zip # -q for quiet \r\n",
        "print(\"\\n Replacing the old seg_pred folder with new labeled data of seg_pred folder successfully ......\")"
      ],
      "execution_count": 7,
      "outputs": [
        {
          "output_type": "stream",
          "text": [
            "Mounted at /content/drive\n",
            "\n",
            " Mounted to google drive successfully.......\n",
            "\n",
            " Replacing the old seg_pred folder with new labeled data of seg_pred folder successfully ......\n"
          ],
          "name": "stdout"
        }
      ]
    },
    {
      "cell_type": "markdown",
      "metadata": {
        "id": "m4PjGj52MzuK"
      },
      "source": [
        "### Performing Transfer Learning for Image Classification <br>\r\n",
        "\r\n",
        "\r\n",
        "I used the VGG16 pretrained model and exclude the last classification layer.I added new layers at the end like Conv and Pooling layers or only a FC classification layer according to our data and train. I will only use a classification layer and see how it performs without training and with training for few epochs on the **Base_Model**(Model without data_Aurgumentation) and on the model after applying the data_aurgumentation.\r\n",
        "\r\n"
      ]
    },
    {
      "cell_type": "markdown",
      "metadata": {
        "id": "ID-Sol2vLyzc"
      },
      "source": [
        "1. Importing necessary Libraries...."
      ]
    },
    {
      "cell_type": "code",
      "metadata": {
        "id": "Qe2chVOdxoVv"
      },
      "source": [
        "from keras.layers import Input, Lambda, Dense, Flatten\r\n",
        "from keras.models import Model\r\n",
        "from keras.applications.vgg16 import VGG16\r\n",
        "from keras.applications.vgg16 import preprocess_input\r\n",
        "from keras.preprocessing import image\r\n",
        "from keras.preprocessing.image import ImageDataGenerator\r\n",
        "from keras.models import Sequential\r\n",
        "import numpy as np\r\n",
        "from glob import glob\r\n",
        "import tensorflow as tf\r\n",
        "from tensorflow import keras\r\n",
        "import matplotlib.pyplot as plt\r\n",
        "from keras import backend as K\r\n",
        "from scipy import misc,ndimage\r\n",
        "import matplotlib.image  as mpimg\r\n",
        "import matplotlib.pyplot as plt\r\n",
        "\r\n",
        "%matplotlib inline"
      ],
      "execution_count": 8,
      "outputs": []
    },
    {
      "cell_type": "markdown",
      "metadata": {
        "id": "Zqj3WWVcP2CB"
      },
      "source": [
        "2. Load VGG16 model without classification layers..."
      ]
    },
    {
      "cell_type": "code",
      "metadata": {
        "id": "ZDOHnvsHxsHq",
        "colab": {
          "base_uri": "https://localhost:8080/"
        },
        "outputId": "ae438f45-7e68-4880-c6c1-af9c3b1e3679"
      },
      "source": [
        "model = VGG16(include_top=False, input_shape=(150, 150, 3))       # load VGG16 model without classification layers"
      ],
      "execution_count": 9,
      "outputs": [
        {
          "output_type": "stream",
          "text": [
            "Downloading data from https://storage.googleapis.com/tensorflow/keras-applications/vgg16/vgg16_weights_tf_dim_ordering_tf_kernels_notop.h5\n",
            "58892288/58889256 [==============================] - 0s 0us/step\n"
          ],
          "name": "stdout"
        }
      ]
    },
    {
      "cell_type": "markdown",
      "metadata": {
        "id": "z_ixisTQQU3e"
      },
      "source": [
        "3. Adding new classification layers...."
      ]
    },
    {
      "cell_type": "code",
      "metadata": {
        "id": "rj4OoJPbyKn1"
      },
      "source": [
        "# Adding new classification layers\r\n",
        "flat1 = Flatten()(model.layers[-1].output) # flatten last layer\r\n",
        "class1 = Dense(1024, activation='relu')(flat1) # add FC layer on previous layer\r\n",
        "output = Dense(6, activation='softmax')(class1) # add softmax layer"
      ],
      "execution_count": 10,
      "outputs": []
    },
    {
      "cell_type": "markdown",
      "metadata": {
        "id": "DkaI9_wrQzea"
      },
      "source": [
        "4. Defining the Model..."
      ]
    },
    {
      "cell_type": "code",
      "metadata": {
        "id": "o7ORJRLHyOjH",
        "colab": {
          "base_uri": "https://localhost:8080/"
        },
        "outputId": "de403c38-fe47-4b6b-d9dc-b838137a931e"
      },
      "source": [
        "# define the new model\r\n",
        "model = Model(inputs=model.inputs, outputs=output)\r\n",
        "model.summary()"
      ],
      "execution_count": 11,
      "outputs": [
        {
          "output_type": "stream",
          "text": [
            "Model: \"model\"\n",
            "_________________________________________________________________\n",
            "Layer (type)                 Output Shape              Param #   \n",
            "=================================================================\n",
            "input_1 (InputLayer)         [(None, 150, 150, 3)]     0         \n",
            "_________________________________________________________________\n",
            "block1_conv1 (Conv2D)        (None, 150, 150, 64)      1792      \n",
            "_________________________________________________________________\n",
            "block1_conv2 (Conv2D)        (None, 150, 150, 64)      36928     \n",
            "_________________________________________________________________\n",
            "block1_pool (MaxPooling2D)   (None, 75, 75, 64)        0         \n",
            "_________________________________________________________________\n",
            "block2_conv1 (Conv2D)        (None, 75, 75, 128)       73856     \n",
            "_________________________________________________________________\n",
            "block2_conv2 (Conv2D)        (None, 75, 75, 128)       147584    \n",
            "_________________________________________________________________\n",
            "block2_pool (MaxPooling2D)   (None, 37, 37, 128)       0         \n",
            "_________________________________________________________________\n",
            "block3_conv1 (Conv2D)        (None, 37, 37, 256)       295168    \n",
            "_________________________________________________________________\n",
            "block3_conv2 (Conv2D)        (None, 37, 37, 256)       590080    \n",
            "_________________________________________________________________\n",
            "block3_conv3 (Conv2D)        (None, 37, 37, 256)       590080    \n",
            "_________________________________________________________________\n",
            "block3_pool (MaxPooling2D)   (None, 18, 18, 256)       0         \n",
            "_________________________________________________________________\n",
            "block4_conv1 (Conv2D)        (None, 18, 18, 512)       1180160   \n",
            "_________________________________________________________________\n",
            "block4_conv2 (Conv2D)        (None, 18, 18, 512)       2359808   \n",
            "_________________________________________________________________\n",
            "block4_conv3 (Conv2D)        (None, 18, 18, 512)       2359808   \n",
            "_________________________________________________________________\n",
            "block4_pool (MaxPooling2D)   (None, 9, 9, 512)         0         \n",
            "_________________________________________________________________\n",
            "block5_conv1 (Conv2D)        (None, 9, 9, 512)         2359808   \n",
            "_________________________________________________________________\n",
            "block5_conv2 (Conv2D)        (None, 9, 9, 512)         2359808   \n",
            "_________________________________________________________________\n",
            "block5_conv3 (Conv2D)        (None, 9, 9, 512)         2359808   \n",
            "_________________________________________________________________\n",
            "block5_pool (MaxPooling2D)   (None, 4, 4, 512)         0         \n",
            "_________________________________________________________________\n",
            "flatten (Flatten)            (None, 8192)              0         \n",
            "_________________________________________________________________\n",
            "dense (Dense)                (None, 1024)              8389632   \n",
            "_________________________________________________________________\n",
            "dense_1 (Dense)              (None, 6)                 6150      \n",
            "=================================================================\n",
            "Total params: 23,110,470\n",
            "Trainable params: 23,110,470\n",
            "Non-trainable params: 0\n",
            "_________________________________________________________________\n"
          ],
          "name": "stdout"
        }
      ]
    },
    {
      "cell_type": "markdown",
      "metadata": {
        "id": "Kz_WUmK515mB"
      },
      "source": [
        "5. Defining the path to dataset folders..."
      ]
    },
    {
      "cell_type": "code",
      "metadata": {
        "id": "84WfQh1TxvE0"
      },
      "source": [
        "train_path = '/content/seg_train/seg_train/'\r\n",
        "valid_path = '/content/seg_test/seg_test/'\r\n",
        "test_path = '/content/seg_pred/seg_pred/'"
      ],
      "execution_count": 12,
      "outputs": []
    },
    {
      "cell_type": "markdown",
      "metadata": {
        "id": "-0XEXOYv2jxQ"
      },
      "source": [
        "6. Loading the training and Validition data without using Data_Aurgumentation for Base_Model..."
      ]
    },
    {
      "cell_type": "code",
      "metadata": {
        "colab": {
          "base_uri": "https://localhost:8080/"
        },
        "id": "E_GJf46HWFzh",
        "outputId": "609a7560-1da9-4665-9e47-300448d942fc"
      },
      "source": [
        "#loading data without data_aurgumentation\r\n",
        "train_ds =tf.keras.preprocessing.image_dataset_from_directory(\r\n",
        "    train_path,\r\n",
        "    image_size=(150,150),\r\n",
        "    batch_size=32,\r\n",
        "    color_mode=\"rgb\",\r\n",
        "    label_mode='categorical' \r\n",
        "    )\r\n",
        "\r\n",
        "valid_ds =tf.keras.preprocessing.image_dataset_from_directory(\r\n",
        "    valid_path,\r\n",
        "    image_size=(150,150),\r\n",
        "    batch_size=32,\r\n",
        "    color_mode=\"rgb\",\r\n",
        "    shuffle=False,\r\n",
        "    label_mode='categorical'\r\n",
        "    )\r\n",
        "\r\n",
        "test_ds =tf.keras.preprocessing.image_dataset_from_directory(\r\n",
        "    test_path,\r\n",
        "    image_size=(150,150),\r\n",
        "    batch_size=32,\r\n",
        "    color_mode=\"rgb\",\r\n",
        "    shuffle=False,\r\n",
        "    label_mode='categorical'\r\n",
        "    )\r\n"
      ],
      "execution_count": 13,
      "outputs": [
        {
          "output_type": "stream",
          "text": [
            "Found 14034 files belonging to 6 classes.\n",
            "Found 3000 files belonging to 6 classes.\n",
            "Found 7301 files belonging to 6 classes.\n"
          ],
          "name": "stdout"
        }
      ]
    },
    {
      "cell_type": "markdown",
      "metadata": {
        "id": "CPx8IV8O3BFj"
      },
      "source": [
        "7. Compiling the model...."
      ]
    },
    {
      "cell_type": "code",
      "metadata": {
        "id": "zpPNm0PNbBOL"
      },
      "source": [
        "model.compile(\r\n",
        "    optimizer=keras.optimizers.Adam(1e-3),\r\n",
        "    loss=\"binary_crossentropy\",\r\n",
        "    metrics=[\"accuracy\"],\r\n",
        ")"
      ],
      "execution_count": 14,
      "outputs": []
    },
    {
      "cell_type": "markdown",
      "metadata": {
        "id": "Y-_3zS6j3Q7N"
      },
      "source": [
        "8. Training the model without using the Data_Aurgumentation..."
      ]
    },
    {
      "cell_type": "code",
      "metadata": {
        "colab": {
          "base_uri": "https://localhost:8080/"
        },
        "id": "JNaqCK_Cb4j-",
        "outputId": "c09b393d-3657-4186-d894-a92e533156c2"
      },
      "source": [
        "#training model without data_aurgumentation\r\n",
        "base_model= model.fit(train_ds, \r\n",
        "              epochs=5, \r\n",
        "              batch_size=32,\r\n",
        "              validation_data=valid_ds)"
      ],
      "execution_count": 15,
      "outputs": [
        {
          "output_type": "stream",
          "text": [
            "Epoch 1/5\n",
            "439/439 [==============================] - 115s 240ms/step - loss: 1.0367 - accuracy: 0.3508 - val_loss: 0.2974 - val_accuracy: 0.5503\n",
            "Epoch 2/5\n",
            "439/439 [==============================] - 107s 243ms/step - loss: 0.2956 - accuracy: 0.5633 - val_loss: 0.2575 - val_accuracy: 0.6573\n",
            "Epoch 3/5\n",
            "439/439 [==============================] - 107s 243ms/step - loss: 0.2548 - accuracy: 0.6473 - val_loss: 0.2398 - val_accuracy: 0.6823\n",
            "Epoch 4/5\n",
            "439/439 [==============================] - 107s 243ms/step - loss: 0.2139 - accuracy: 0.7318 - val_loss: 0.1716 - val_accuracy: 0.7953\n",
            "Epoch 5/5\n",
            "439/439 [==============================] - 106s 242ms/step - loss: 0.1775 - accuracy: 0.7814 - val_loss: 0.1566 - val_accuracy: 0.8233\n"
          ],
          "name": "stdout"
        }
      ]
    },
    {
      "cell_type": "markdown",
      "metadata": {
        "id": "guCppk_t34Rm"
      },
      "source": [
        "9. Displaying the Qualitative Results of base_model....."
      ]
    },
    {
      "cell_type": "code",
      "metadata": {
        "id": "YfQQYemQ0nU_",
        "colab": {
          "base_uri": "https://localhost:8080/",
          "height": 846
        },
        "outputId": "9f071a34-7e38-4204-9b69-c1a120cb9909"
      },
      "source": [
        "\r\n",
        "# #-----------------------------------------------------------\r\n",
        "# # Retrieve a list of list results on training and test data for base_model\r\n",
        "# # sets for each training epoch\r\n",
        "# #-----------------------------------------------------------\r\n",
        "acc=base_model.history['accuracy']\r\n",
        "val_acc=base_model.history['val_accuracy']\r\n",
        "loss=base_model.history['loss']\r\n",
        "val_loss=base_model.history['val_loss']\r\n",
        "\r\n",
        "epochs=range(len(acc)) # Get number of epochs\r\n",
        "\r\n",
        "# # Plot training and validation accuracy per epoch for base_model\r\n",
        "# #------------------------------------------------\r\n",
        "plt.plot(epochs, acc, 'r', \"Training Accuracy\")\r\n",
        "plt.plot(epochs, val_acc, 'b', \"Validation Accuracy\")\r\n",
        "plt.title('Training and validation accuracy')\r\n",
        "plt.figure()\r\n",
        "\r\n",
        "# # Plot training and validation loss per epoch for base_model\r\n",
        "# #------------------------------------------------\r\n",
        "plt.plot(epochs, loss, 'r', \"Training Loss\")\r\n",
        "plt.plot(epochs, val_loss, 'b', \"Validation Loss\")\r\n",
        "plt.title('Training and validation loss')\r\n",
        "plt.figure()\r\n",
        "\r\n",
        "\r\n",
        "\r\n",
        "#LEARNING CURVE for base_model\r\n",
        "\r\n",
        "import matplotlib.pyplot as plt\r\n",
        "N = np.arange(0, 5)\r\n",
        "plt.style.use('ggplot')\r\n",
        "plt.figure()\r\n",
        "plt.plot(N, base_model.history['loss'], label='train_loss')\r\n",
        "plt.plot(N, base_model.history['val_loss'], label='val_loss')\r\n",
        "plt.plot(N, base_model.history['accuracy'], label='train_accuracy')\r\n",
        "plt.plot(N, base_model.history['val_accuracy'], label='val_accuracy')\r\n",
        "plt.title('Training loss and accuracy base_Model')\r\n",
        "plt.xlabel('Epoch #')\r\n",
        "plt.ylabel('Loss/Accuracy')\r\n",
        "plt.legend()\r\n",
        "plt.show()\r\n"
      ],
      "execution_count": 25,
      "outputs": [
        {
          "output_type": "display_data",
          "data": {
            "image/png": "[encoded data removed]",
            "text/plain": [
              "<Figure size 432x288 with 1 Axes>"
            ]
          },
          "metadata": {
            "tags": []
          }
        },
        {
          "output_type": "display_data",
          "data": {
            "image/png": "[encoded data removed]",
            "text/plain": [
              "<Figure size 432x288 with 1 Axes>"
            ]
          },
          "metadata": {
            "tags": []
          }
        },
        {
          "output_type": "display_data",
          "data": {
            "text/plain": [
              "<Figure size 432x288 with 0 Axes>"
            ]
          },
          "metadata": {
            "tags": []
          }
        },
        {
          "output_type": "display_data",
          "data": {
            "image/png": "[encoded data removed]",
            "text/plain": [
              "<Figure size 432x288 with 1 Axes>"
            ]
          },
          "metadata": {
            "tags": []
          }
        }
      ]
    },
    {
      "cell_type": "markdown",
      "metadata": {
        "id": "Jv7yMJ6V5Jbb"
      },
      "source": [
        "10. Evaluting the Test Loss and Accuracy for base_Model....."
      ]
    },
    {
      "cell_type": "code",
      "metadata": {
        "id": "CNKvqY6tRQAB",
        "colab": {
          "base_uri": "https://localhost:8080/"
        },
        "outputId": "470a92f8-d445-4272-a519-9ccd5426d7b2"
      },
      "source": [
        "score = model.evaluate(valid_ds, batch_size=32)\r\n",
        "print('Test Loss = ', score[0])\r\n",
        "print('Test Accuracy = ', score[1])\r\n"
      ],
      "execution_count": 17,
      "outputs": [
        {
          "output_type": "stream",
          "text": [
            "94/94 [==============================] - 8s 80ms/step - loss: 0.1566 - accuracy: 0.8233\n",
            "Test Loss =  0.15661856532096863\n",
            "Test Accuracy =  0.8233333230018616\n"
          ],
          "name": "stdout"
        }
      ]
    },
    {
      "cell_type": "markdown",
      "metadata": {
        "id": "Soh3wHPm5h7P"
      },
      "source": [
        "11. Loading the training, Validition and Test data  using Data_Aurgumentation....."
      ]
    },
    {
      "cell_type": "code",
      "metadata": {
        "id": "H57p56TEwSLe",
        "colab": {
          "base_uri": "https://localhost:8080/"
        },
        "outputId": "75d1e6fc-083b-455c-caee-58eea84749cf"
      },
      "source": [
        "#loading data with data_aurgumentation\r\n",
        "\r\n",
        "train_datagen = ImageDataGenerator(\r\n",
        "        rescale=1./255,\r\n",
        "        shear_range=0.2,\r\n",
        "        horizontal_flip=True,brightness_range = (0.5, 1.5), zoom_range=0.2\r\n",
        "        )\r\n",
        "        \r\n",
        "                                   \r\n",
        "\r\n",
        "valid_datagen = ImageDataGenerator(rescale=1./255)\r\n",
        "\r\n",
        "test_datagen = ImageDataGenerator(rescale=1./255)\r\n",
        "\r\n",
        "train_generator = train_datagen.flow_from_directory(\r\n",
        "                                                 train_path,\r\n",
        "                                                 target_size = (150, 150),\r\n",
        "                                                 color_mode=\"rgb\",\r\n",
        "                                                 batch_size = 32,\r\n",
        "                                                 class_mode = 'categorical' \r\n",
        "                                                 )\r\n",
        "\r\n",
        "\r\n",
        "validation_generator = valid_datagen.flow_from_directory(valid_path ,\r\n",
        "                                            target_size = (150, 150),\r\n",
        "                                            shuffle=False,\r\n",
        "                                            batch_size = 32,\r\n",
        "                                            color_mode=\"rgb\",\r\n",
        "                                            class_mode = 'categorical' \r\n",
        "                                            )\r\n",
        "\r\n",
        "test_generator = test_datagen.flow_from_directory(test_path,\r\n",
        "                                            target_size = (150, 150),\r\n",
        "                                            color_mode=\"rgb\",\r\n",
        "                                            batch_size=32,\r\n",
        "                                            class_mode = 'categorical',\r\n",
        "                                            shuffle=False,\r\n",
        "                                            )\r\n",
        "\r\n"
      ],
      "execution_count": 18,
      "outputs": [
        {
          "output_type": "stream",
          "text": [
            "Found 14034 images belonging to 6 classes.\n",
            "Found 3000 images belonging to 6 classes.\n",
            "Found 7301 images belonging to 6 classes.\n"
          ],
          "name": "stdout"
        }
      ]
    },
    {
      "cell_type": "markdown",
      "metadata": {
        "id": "skt5_2ys6JX3"
      },
      "source": [
        "11. Compiling the model...."
      ]
    },
    {
      "cell_type": "code",
      "metadata": {
        "id": "i-Z0yhRlSlYW"
      },
      "source": [
        "model.compile(\r\n",
        "loss='categorical_crossentropy',\r\n",
        "optimizer='adam',\r\n",
        "metrics=['accuracy']\r\n",
        ")"
      ],
      "execution_count": 19,
      "outputs": []
    },
    {
      "cell_type": "markdown",
      "metadata": {
        "id": "b8GzbPPM6MlQ"
      },
      "source": [
        "12. Training the model after using the Data_Aurgumentation..."
      ]
    },
    {
      "cell_type": "code",
      "metadata": {
        "id": "kUdcWROwwWBN",
        "colab": {
          "base_uri": "https://localhost:8080/"
        },
        "outputId": "6be7dd14-4f6b-44ee-f826-1ff0c318cdcb"
      },
      "source": [
        "# fit the model\r\n",
        " #training model without data aurgumentation\r\n",
        "data_argum_model= model.fit(\r\n",
        "              train_generator, \r\n",
        "              epochs=10, \r\n",
        "              batch_size=64,\r\n",
        "              validation_data=validation_generator)\r\n"
      ],
      "execution_count": 29,
      "outputs": [
        {
          "output_type": "stream",
          "text": [
            "Epoch 1/10\n",
            "439/439 [==============================] - 124s 281ms/step - loss: 0.4004 - accuracy: 0.8606 - val_loss: 0.3671 - val_accuracy: 0.8770\n",
            "Epoch 2/10\n",
            "439/439 [==============================] - 123s 280ms/step - loss: 0.4077 - accuracy: 0.8606 - val_loss: 0.4000 - val_accuracy: 0.8693\n",
            "Epoch 3/10\n",
            "439/439 [==============================] - 124s 282ms/step - loss: 0.3782 - accuracy: 0.8660 - val_loss: 0.4228 - val_accuracy: 0.8710\n",
            "Epoch 4/10\n",
            "439/439 [==============================] - 124s 282ms/step - loss: 0.3854 - accuracy: 0.8654 - val_loss: 0.4039 - val_accuracy: 0.8597\n",
            "Epoch 5/10\n",
            "439/439 [==============================] - 124s 282ms/step - loss: 0.3689 - accuracy: 0.8706 - val_loss: 0.3676 - val_accuracy: 0.8690\n",
            "Epoch 6/10\n",
            "439/439 [==============================] - 124s 282ms/step - loss: 0.3972 - accuracy: 0.8628 - val_loss: 0.3341 - val_accuracy: 0.8933\n",
            "Epoch 7/10\n",
            "439/439 [==============================] - 124s 282ms/step - loss: 0.3512 - accuracy: 0.8793 - val_loss: 0.3974 - val_accuracy: 0.8577\n",
            "Epoch 8/10\n",
            "439/439 [==============================] - 124s 282ms/step - loss: 0.3909 - accuracy: 0.8650 - val_loss: 0.4091 - val_accuracy: 0.8637\n",
            "Epoch 9/10\n",
            "439/439 [==============================] - 124s 281ms/step - loss: 0.3586 - accuracy: 0.8745 - val_loss: 0.3288 - val_accuracy: 0.8850\n",
            "Epoch 10/10\n",
            "439/439 [==============================] - 123s 280ms/step - loss: 0.3499 - accuracy: 0.8792 - val_loss: 0.3970 - val_accuracy: 0.8740\n"
          ],
          "name": "stdout"
        }
      ]
    },
    {
      "cell_type": "markdown",
      "metadata": {
        "id": "SxVgptTn6wl3"
      },
      "source": [
        "13. Saving the model weights....."
      ]
    },
    {
      "cell_type": "code",
      "metadata": {
        "id": "BMc8dpWyzLD-"
      },
      "source": [
        "model.save('data_argum_model.h5')"
      ],
      "execution_count": 33,
      "outputs": []
    },
    {
      "cell_type": "markdown",
      "metadata": {
        "id": "3Isxt_cs7LQP"
      },
      "source": [
        "14. Displaying the Qualitative Results of model after data_aurgumentation....."
      ]
    },
    {
      "cell_type": "code",
      "metadata": {
        "id": "aeasOs-mzM52",
        "colab": {
          "base_uri": "https://localhost:8080/",
          "height": 846
        },
        "outputId": "1093c4ee-2f96-4098-b28c-ec37fc45f567"
      },
      "source": [
        "\r\n",
        "# #-----------------------------------------------------------\r\n",
        "# # Retrieve a list of list results on training and test data for data_argum_model\r\n",
        "# # sets for each training epoch\r\n",
        "# #-----------------------------------------------------------\r\n",
        "acc=data_argum_model.history['accuracy']\r\n",
        "val_acc=data_argum_model.history['val_accuracy']\r\n",
        "loss=data_argum_model.history['loss']\r\n",
        "val_loss=data_argum_model.history['val_loss']\r\n",
        "\r\n",
        "epochs=range(len(acc)) # Get number of epochs\r\n",
        "\r\n",
        "# # Plot training and validation accuracy per epoch for data_argum_model\r\n",
        "# #------------------------------------------------\r\n",
        "plt.plot(epochs, acc, 'r', \"Training Accuracy\")\r\n",
        "plt.plot(epochs, val_acc, 'b', \"Validation Accuracy\")\r\n",
        "plt.title('Training and validation accuracy')\r\n",
        "plt.figure()\r\n",
        "\r\n",
        "# # Plot training and validation loss per epoch for data_argum_model\r\n",
        "# #------------------------------------------------\r\n",
        "plt.plot(epochs, loss, 'r', \"Training Loss\")\r\n",
        "plt.plot(epochs, val_loss, 'b', \"Validation Loss\")\r\n",
        "plt.title('Training and validation loss')\r\n",
        "plt.figure()\r\n",
        "\r\n",
        "\r\n",
        "#LEARNING CURVE for base_model\r\n",
        "\r\n",
        "import matplotlib.pyplot as plt\r\n",
        "N = np.arange(0, 10)\r\n",
        "plt.style.use('ggplot')\r\n",
        "plt.figure()\r\n",
        "plt.plot(N, data_argum_model.history['loss'], label='train_loss')\r\n",
        "plt.plot(N,data_argum_model.history['val_loss'], label='val_loss')\r\n",
        "plt.plot(N, data_argum_model.history['accuracy'], label='train_accuracy')\r\n",
        "plt.plot(N, data_argum_model.history['val_accuracy'], label='val_accuracy')\r\n",
        "plt.title('Training loss and accuracy on data_argumentation Model')\r\n",
        "plt.xlabel('Epoch #')\r\n",
        "plt.ylabel('Loss/Accuracy')\r\n",
        "plt.legend()\r\n",
        "plt.show()\r\n",
        "\r\n",
        "\r\n",
        "\r\n"
      ],
      "execution_count": 35,
      "outputs": [
        {
          "output_type": "display_data",
          "data": {
            "image/png": "[encoded data removed]",
            "text/plain": [
              "<Figure size 432x288 with 1 Axes>"
            ]
          },
          "metadata": {
            "tags": []
          }
        },
        {
          "output_type": "display_data",
          "data": {
            "image/png": "[encoded data removed]",
            "text/plain": [
              "<Figure size 432x288 with 1 Axes>"
            ]
          },
          "metadata": {
            "tags": []
          }
        },
        {
          "output_type": "display_data",
          "data": {
            "text/plain": [
              "<Figure size 432x288 with 0 Axes>"
            ]
          },
          "metadata": {
            "tags": []
          }
        },
        {
          "output_type": "display_data",
          "data": {
            "image/png": "[encoded data removed]",
            "text/plain": [
              "<Figure size 432x288 with 1 Axes>"
            ]
          },
          "metadata": {
            "tags": []
          }
        }
      ]
    },
    {
      "cell_type": "markdown",
      "metadata": {
        "id": "O1u9pHGs77s6"
      },
      "source": [
        "15. Evaluting the Test Loss and Accuracy for data_argumented_Model....."
      ]
    },
    {
      "cell_type": "code",
      "metadata": {
        "id": "xKD3CUyEzn11",
        "colab": {
          "base_uri": "https://localhost:8080/"
        },
        "outputId": "ed18ad51-c49f-4a4e-ca60-77eb2c1e7abc"
      },
      "source": [
        "score = model.evaluate(validation_generator, batch_size=32)\r\n",
        "print('Test Loss = ', score[0])\r\n",
        "print('Test Accuracy = ', score[1])\r\n"
      ],
      "execution_count": 31,
      "outputs": [
        {
          "output_type": "stream",
          "text": [
            "94/94 [==============================] - 6s 64ms/step - loss: 0.3970 - accuracy: 0.8740\n",
            "Test Loss =  0.39704638719558716\n",
            "Test Accuracy =  0.8740000128746033\n"
          ],
          "name": "stdout"
        }
      ]
    },
    {
      "cell_type": "markdown",
      "metadata": {
        "id": "lbTgHxFE86sX"
      },
      "source": [
        "16. Confusion Matrix....\r\n"
      ]
    },
    {
      "cell_type": "code",
      "metadata": {
        "id": "s_uue9hwy3YQ",
        "colab": {
          "base_uri": "https://localhost:8080/"
        },
        "outputId": "bdd27975-a8fa-416f-e91b-7fa5a0638be7"
      },
      "source": [
        "\r\n",
        "from sklearn.metrics import  confusion_matrix\r\n",
        "#Confution Matrix\r\n",
        "\r\n",
        "Y_pred = model.predict_generator(test_generator)\r\n",
        "y_pred = np.argmax(Y_pred, axis=1)\r\n",
        "print('Confusion Matrix')\r\n",
        "print(confusion_matrix(test_generator.classes, y_pred))\r\n",
        "\r\n"
      ],
      "execution_count": 32,
      "outputs": [
        {
          "output_type": "stream",
          "text": [
            "/usr/local/lib/python3.6/dist-packages/tensorflow/python/keras/engine/training.py:1905: UserWarning: `Model.predict_generator` is deprecated and will be removed in a future version. Please use `Model.predict`, which supports generators.\n",
            "  warnings.warn('`Model.predict_generator` is deprecated and '\n"
          ],
          "name": "stderr"
        },
        {
          "output_type": "stream",
          "text": [
            "Confusion Matrix\n",
            "[[1078    5    3    6    5   47]\n",
            " [   7 1124    1    2    2   30]\n",
            " [  11   12 1055  173   61   18]\n",
            " [  24    6  162 1010   89    6]\n",
            " [  45    9   30   61  968   15]\n",
            " [ 222    7    1    4    4  998]]\n"
          ],
          "name": "stdout"
        }
      ]
    }
  ]
}